{
 "cells": [
  {
   "cell_type": "code",
   "execution_count": 1,
   "metadata": {},
   "outputs": [],
   "source": [
    "from neuralogic import *"
   ]
  },
  {
   "cell_type": "code",
   "execution_count": 2,
   "metadata": {},
   "outputs": [],
   "source": [
    "x = XOR()"
   ]
  },
  {
   "cell_type": "code",
   "execution_count": 3,
   "metadata": {},
   "outputs": [
    {
     "name": "stdout",
     "output_type": "stream",
     "text": [
      "\n",
      "AND: [1, 0, 0, 0]\n",
      "OR: [1, 1, 1, 0]\n",
      "NAND: [0, 1, 1, 1]\n",
      "NOR: [0, 0, 0, 1]\n",
      "XOR: [0, 1, 1, 0]\n",
      "XNOR: [1, 0, 0, 1]\n",
      "\n"
     ]
    }
   ],
   "source": [
    "AND = AND()\n",
    "OR = OR()\n",
    "NAND = NAND()\n",
    "NOR = NOR()\n",
    "XOR = XOR()\n",
    "XNOR = XNOR()\n",
    "print()\n",
    "for i in ['AND', 'OR', 'NAND', 'NOR', 'XOR', 'XNOR']:\n",
    "    prediction = eval(i).predict()\n",
    "    print(f'{i}: {prediction}')\n",
    "print()"
   ]
  },
  {
   "cell_type": "code",
   "execution_count": 8,
   "metadata": {},
   "outputs": [
    {
     "name": "stdout",
     "output_type": "stream",
     "text": [
      "Boolean Formula: A and not B or C\n",
      "LogicGate(\n",
      "    3 neurons,\n",
      "    3 variables,\n",
      "    Inputs = [Node(out=[1, 1, 1, 1, 0, 0, 0, 0],key=A), Node(out=[1, 1, 0, 0, 1, 1, 0, 0],key=B), Node(out=[1, 0, 1, 0, 1, 0, 1, 0],key=C)]\n",
      ")\n",
      "Neurons:\n",
      "[Neuron(out=1,key=NOT,tau=0,weights=[-1]), Neuron(out=0,key=AND,tau=2,weights=[1, 1]), Neuron(out=0,key=OR,tau=1,weights=[1, 1])]\n",
      "Truth table:\n",
      "[1, 0, 1, 1, 1, 0, 1, 0]\n"
     ]
    }
   ],
   "source": [
    "s = 'A and not B nand C'\n",
    "creator = LGCreator()\n",
    "lg = creator.create(s=s)\n",
    "pred = lg.predict()\n",
    "print(f'Boolean Formula: {s}')\n",
    "print(lg)\n",
    "print('Neurons:')\n",
    "print(lg.neurons)\n",
    "print('Truth table:')\n",
    "print(pred)"
   ]
  },
  {
   "cell_type": "code",
   "execution_count": 5,
   "metadata": {},
   "outputs": [
    {
     "name": "stdout",
     "output_type": "stream",
     "text": [
      "[Neuron(out=1,key=NOT,tau=0,weights=[-1]), Neuron(out=0,key=AND,tau=2,weights=[1, 1]), Neuron(out=0,key=OR,tau=1,weights=[1, 1])]\n"
     ]
    }
   ],
   "source": [
    "print(lg.neurons)"
   ]
  }
 ],
 "metadata": {
  "kernelspec": {
   "display_name": "Python 3",
   "language": "python",
   "name": "python3"
  },
  "language_info": {
   "codemirror_mode": {
    "name": "ipython",
    "version": 3
   },
   "file_extension": ".py",
   "mimetype": "text/x-python",
   "name": "python",
   "nbconvert_exporter": "python",
   "pygments_lexer": "ipython3",
   "version": "3.10.5"
  },
  "orig_nbformat": 4
 },
 "nbformat": 4,
 "nbformat_minor": 2
}
