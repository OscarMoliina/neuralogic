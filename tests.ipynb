{
 "cells": [
  {
   "cell_type": "code",
   "execution_count": 1,
   "metadata": {},
   "outputs": [],
   "source": [
    "from neuralogic import *"
   ]
  },
  {
   "cell_type": "code",
   "execution_count": 2,
   "metadata": {},
   "outputs": [
    {
     "name": "stdout",
     "output_type": "stream",
     "text": [
      "\n",
      "AND: [1, 0, 0, 0]\n",
      "OR: [1, 1, 1, 0]\n",
      "NAND: [0, 1, 1, 1]\n",
      "NOR: [0, 0, 0, 1]\n",
      "XOR: [0, 1, 1, 0]\n",
      "XNOR: [1, 0, 0, 1]\n",
      "\n"
     ]
    }
   ],
   "source": [
    "AND = AND()\n",
    "OR = OR()\n",
    "NAND = NAND()\n",
    "NOR = NOR()\n",
    "XOR = XOR()\n",
    "XNOR = XNOR()\n",
    "print()\n",
    "for i in ['AND', 'OR', 'NAND', 'NOR', 'XOR', 'XNOR']:\n",
    "    prediction = eval(i).predict()\n",
    "    print(f'{i}: {prediction}')\n",
    "print()"
   ]
  },
  {
   "cell_type": "code",
   "execution_count": 5,
   "metadata": {},
   "outputs": [
    {
     "name": "stdout",
     "output_type": "stream",
     "text": [
      "['A', 'not', 'A', 'B', 'or', 'and']\n",
      "Boolean Formula: not A and (A or B)\n",
      "LogicGate(\n",
      "    3 neurons,\n",
      "    2 variables,\n",
      "    Inputs = [Node(out=[1, 1, 0, 0]), Node(out=[1, 0, 1, 0])]\n",
      ")\n",
      "Truth table:\n",
      "[0, 0, 1, 0]\n"
     ]
    }
   ],
   "source": [
    "s = 'not A and (A or B)'\n",
    "creator = LGCreator()\n",
    "lg = creator.create(s=s)\n",
    "pred = lg.predict()\n",
    "print(f'Boolean Formula: {s}')\n",
    "print(lg)\n",
    "print('Truth table:')\n",
    "print(pred)"
   ]
  }
 ],
 "metadata": {
  "kernelspec": {
   "display_name": "Python 3",
   "language": "python",
   "name": "python3"
  },
  "language_info": {
   "codemirror_mode": {
    "name": "ipython",
    "version": 3
   },
   "file_extension": ".py",
   "mimetype": "text/x-python",
   "name": "python",
   "nbconvert_exporter": "python",
   "pygments_lexer": "ipython3",
   "version": "3.10.5"
  },
  "orig_nbformat": 4
 },
 "nbformat": 4,
 "nbformat_minor": 2
}
