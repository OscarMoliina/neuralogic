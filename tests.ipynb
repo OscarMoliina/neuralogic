{
 "cells": [
  {
   "cell_type": "code",
   "execution_count": 1,
   "metadata": {},
   "outputs": [],
   "source": [
    "from neuralogic import *"
   ]
  },
  {
   "cell_type": "code",
   "execution_count": 2,
   "metadata": {},
   "outputs": [
    {
     "data": {
      "text/plain": [
       "[Neuron(out=None,key=AND,tau=2,weights=[1, 1]),\n",
       " Neuron(out=None,key=AND,tau=2,weights=[1, 1]),\n",
       " Neuron(out=None,key=OR,tau=1,weights=[1, 1]),\n",
       " Neuron(out=None,key=NAND,tau=-1,weights=[-1, -1]),\n",
       " Neuron(out=None,key=AND,tau=2,weights=[1, 1]),\n",
       " Neuron(out=None,key=OR,tau=1,weights=[1, 1]),\n",
       " Neuron(out=None,key=NAND,tau=-1,weights=[-1, -1])]"
      ]
     },
     "execution_count": 2,
     "metadata": {},
     "output_type": "execute_result"
    }
   ],
   "source": [
    "x = XOR()\n",
    "AND_ = AND()\n",
    "AND_.merge(x,x)\n",
    "AND_.neurons"
   ]
  },
  {
   "cell_type": "code",
   "execution_count": 3,
   "metadata": {},
   "outputs": [
    {
     "name": "stdout",
     "output_type": "stream",
     "text": [
      "\n",
      "AND: [1, 0, 0, 0]\n",
      "OR: [1, 1, 1, 0]\n",
      "NAND: [0, 1, 1, 1]\n",
      "NOR: [0, 0, 0, 1]\n",
      "XOR_: [0, 1, 1, 0]\n",
      "XNOR: [1, 0, 0, 1]\n",
      "\n"
     ]
    }
   ],
   "source": [
    "AND = AND()\n",
    "OR = OR()\n",
    "NAND = NAND()\n",
    "NOR = NOR()\n",
    "XOR_ = XOR()\n",
    "XNOR = XNOR()\n",
    "print()\n",
    "for i in ['AND', 'OR', 'NAND', 'NOR', 'XOR_', 'XNOR']:\n",
    "    prediction = eval(i).predict()\n",
    "    print(f'{i}: {prediction}')\n",
    "print()"
   ]
  },
  {
   "cell_type": "code",
   "execution_count": 4,
   "metadata": {},
   "outputs": [
    {
     "name": "stdout",
     "output_type": "stream",
     "text": [
      "Boolean Formula: A and not B nand C\n",
      "LogicGate(\n",
      "    3 neurons,\n",
      "    3 variables,\n",
      "    Inputs = [Node(out=[1, 1, 1, 1, 0, 0, 0, 0],key=A), Node(out=[1, 1, 0, 0, 1, 1, 0, 0],key=B), Node(out=[1, 0, 1, 0, 1, 0, 1, 0],key=C)]\n",
      ")\n",
      "Neurons:\n",
      "[Neuron(out=1,key=NOT,tau=0,weights=[-1]), Neuron(out=0,key=AND,tau=2,weights=[1, 1]), Neuron(out=1,key=NAND,tau=-1,weights=[-1, -1])]\n",
      "Truth table:\n",
      "[1, 1, 0, 1, 1, 1, 1, 1]\n"
     ]
    }
   ],
   "source": [
    "s = 'A and not B nand C'\n",
    "creator = LGCreator()\n",
    "lg = creator.create(s=s)\n",
    "pred = lg.predict()\n",
    "print(f'Boolean Formula: {s}')\n",
    "print(lg)\n",
    "print('Neurons:')\n",
    "print(lg.neurons)\n",
    "print('Truth table:')\n",
    "print(pred)"
   ]
  },
  {
   "cell_type": "code",
   "execution_count": 5,
   "metadata": {},
   "outputs": [
    {
     "name": "stdout",
     "output_type": "stream",
     "text": [
      "[Neuron(out=1,key=NOT,tau=0,weights=[-1]), Neuron(out=0,key=AND,tau=2,weights=[1, 1]), Neuron(out=1,key=NAND,tau=-1,weights=[-1, -1])]\n"
     ]
    }
   ],
   "source": [
    "print(lg.neurons)"
   ]
  },
  {
   "attachments": {},
   "cell_type": "markdown",
   "metadata": {},
   "source": [
    "### Creating with ``merge()`` "
   ]
  },
  {
   "cell_type": "code",
   "execution_count": 6,
   "metadata": {},
   "outputs": [
    {
     "data": {
      "text/plain": [
       "[1, 1, 0, 1, 0, 1, 0, 1]"
      ]
     },
     "execution_count": 6,
     "metadata": {},
     "output_type": "execute_result"
    }
   ],
   "source": [
    "# (A and B) or C\n",
    "and1 = ANDNeuron()\n",
    "or1 = ORNeuron()\n",
    "or1.isoutput = True\n",
    "lg = LogicGate(numvars=3)\n",
    "lg.add(and1,or1)\n",
    "and1.connect(lg.inputs[0], lg.inputs[1])\n",
    "or1.connect(and1, lg.inputs[2])\n",
    "\n",
    "# xor\n",
    "x = XOR()\n",
    "\n",
    "# A nand C\n",
    "nand1 = NANDNeuron()\n",
    "nand1.isoutput = True\n",
    "lg2 = LogicGate(numvars=2)\n",
    "lg2.inputs[1].key = 'C'\n",
    "lg2.add(nand1)\n",
    "nand1.connect(lg.inputs[0], lg.inputs[1])\n",
    "\n",
    "# Merging both logic gates\n",
    "x.merge(lg,lg2)\n",
    "\n",
    "x.predict()"
   ]
  }
 ],
 "metadata": {
  "kernelspec": {
   "display_name": "Python 3",
   "language": "python",
   "name": "python3"
  },
  "language_info": {
   "codemirror_mode": {
    "name": "ipython",
    "version": 3
   },
   "file_extension": ".py",
   "mimetype": "text/x-python",
   "name": "python",
   "nbconvert_exporter": "python",
   "pygments_lexer": "ipython3",
   "version": "3.10.5"
  },
  "orig_nbformat": 4
 },
 "nbformat": 4,
 "nbformat_minor": 2
}
